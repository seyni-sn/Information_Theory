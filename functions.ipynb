{
 "cells": [
  {
   "cell_type": "code",
   "execution_count": 1,
   "metadata": {},
   "outputs": [
    {
     "name": "stdout",
     "output_type": "stream",
     "text": [
      "Desfition des fonctions de conversions\n"
     ]
    }
   ],
   "source": [
    "print('Desfition des fonctions de conversions')"
   ]
  },
  {
   "cell_type": "code",
   "execution_count": 2,
   "metadata": {},
   "outputs": [
    {
     "name": "stdout",
     "output_type": "stream",
     "text": [
      "Fonction qui converti une chaine binaire en une liste de 0 et 1\n"
     ]
    }
   ],
   "source": [
    "print('Fonction qui converti une chaine binaire en une liste de 0 et 1')"
   ]
  },
  {
   "cell_type": "code",
   "execution_count": 3,
   "metadata": {},
   "outputs": [],
   "source": [
    "def fonctionConvertChaineBinAListBin(ChaineBin):\n",
    "    n = len(ChaineBin)\n",
    "    listBin = [i*0 for i in range(n)]\n",
    "    for i in range(n):\n",
    "        bini = '0b'\n",
    "        bini += ChaineBin[i]\n",
    "        listBin[i] = int(bini, 2)\n",
    "    return listBin"
   ]
  },
  {
   "cell_type": "code",
   "execution_count": 4,
   "metadata": {},
   "outputs": [
    {
     "name": "stdout",
     "output_type": "stream",
     "text": [
      "TEST\n"
     ]
    }
   ],
   "source": [
    "print('TEST')"
   ]
  },
  {
   "cell_type": "code",
   "execution_count": 5,
   "metadata": {},
   "outputs": [
    {
     "data": {
      "text/plain": [
       "[1, 0, 0, 1]"
      ]
     },
     "execution_count": 5,
     "metadata": {},
     "output_type": "execute_result"
    }
   ],
   "source": [
    "ChaineBin = '1001'\n",
    "#ChaineBin = '0000';\n",
    "fonctionConvertChaineBinAListBin(ChaineBin)"
   ]
  },
  {
   "cell_type": "code",
   "execution_count": 6,
   "metadata": {},
   "outputs": [
    {
     "name": "stdout",
     "output_type": "stream",
     "text": [
      "Fonction qui converti une liste de 0 et 1 en une chaine binaire\n"
     ]
    }
   ],
   "source": [
    "print('Fonction qui converti une liste de 0 et 1 en une chaine binaire')"
   ]
  },
  {
   "cell_type": "code",
   "execution_count": 7,
   "metadata": {},
   "outputs": [],
   "source": [
    "def fonctionConvertListBinAChaineBin(listBin):\n",
    "    n = len(listBin)\n",
    "    ChaineBin = ''\n",
    "    for i in range(n):\n",
    "        if listBin[i] == 0:\n",
    "            ChaineBin += '0'\n",
    "        else:\n",
    "            ChaineBin += '1'\n",
    "    return ChaineBin"
   ]
  },
  {
   "cell_type": "code",
   "execution_count": 8,
   "metadata": {},
   "outputs": [
    {
     "name": "stdout",
     "output_type": "stream",
     "text": [
      "TEST\n"
     ]
    }
   ],
   "source": [
    "print('TEST')"
   ]
  },
  {
   "cell_type": "code",
   "execution_count": 9,
   "metadata": {},
   "outputs": [
    {
     "data": {
      "text/plain": [
       "'1010101'"
      ]
     },
     "execution_count": 9,
     "metadata": {},
     "output_type": "execute_result"
    }
   ],
   "source": [
    "#listBin = [0, 0, 0, 0, 0, 0, 0]\n",
    "listBin = [1, 0, 1, 0, 1, 0, 1]\n",
    "fonctionConvertListBinAChaineBin(listBin)"
   ]
  },
  {
   "cell_type": "code",
   "execution_count": 10,
   "metadata": {},
   "outputs": [
    {
     "name": "stdout",
     "output_type": "stream",
     "text": [
      "Definition de fonction genereHamming\n"
     ]
    }
   ],
   "source": [
    "print('Definition de fonction genereHamming')"
   ]
  },
  {
   "cell_type": "code",
   "execution_count": 11,
   "metadata": {},
   "outputs": [
    {
     "name": "stdout",
     "output_type": "stream",
     "text": [
      "Defintion d'une matrice generatrice de Hamming H7 sous forme systematique \n"
     ]
    }
   ],
   "source": [
    "print(\"Defintion d'une matrice generatrice de Hamming H7 sous forme systematique \")"
   ]
  },
  {
   "cell_type": "code",
   "execution_count": 12,
   "metadata": {},
   "outputs": [
    {
     "data": {
      "text/plain": [
       "[1 0 0 0 0 1 1]\n",
       "[0 1 0 0 1 0 1]\n",
       "[0 0 1 0 1 1 0]\n",
       "[0 0 0 1 1 1 1]"
      ]
     },
     "execution_count": 12,
     "metadata": {},
     "output_type": "execute_result"
    }
   ],
   "source": [
    "G = matrix(ZZ,[[1,0,0,0,0,1,1], \n",
    "              [0,1,0,0,1,0,1],\n",
    "              [0,0,1,0,1,1,0], \n",
    "              [0,0,0,1,1,1,1]],);G"
   ]
  },
  {
   "cell_type": "code",
   "execution_count": 13,
   "metadata": {},
   "outputs": [
    {
     "name": "stdout",
     "output_type": "stream",
     "text": [
      "Fonction qui genere un mot de code de hamming a partir de la matrice generatrice\n"
     ]
    }
   ],
   "source": [
    "print('Fonction qui genere un mot de code de hamming a partir de la matrice generatrice')"
   ]
  },
  {
   "cell_type": "code",
   "execution_count": 22,
   "metadata": {},
   "outputs": [],
   "source": [
    "def MotDeCodeDeHamming(liste):\n",
    "    motCode = [i*0 for i in range(7)]\n",
    "    for i in range(0,7):\n",
    "        somme = 0\n",
    "        for j in range(0,4):\n",
    "            somme = somme +(liste[j] * G[j][i]);\n",
    "        motCode[i] = int(somme%2);\n",
    "    return motCode"
   ]
  },
  {
   "cell_type": "code",
   "execution_count": null,
   "metadata": {},
   "outputs": [],
   "source": []
  },
  {
   "cell_type": "code",
   "execution_count": null,
   "metadata": {},
   "outputs": [],
   "source": []
  },
  {
   "cell_type": "code",
   "execution_count": 16,
   "metadata": {},
   "outputs": [],
   "source": [
    "espace = fonctionGenereF2n(4); espace"
   ]
  },
  {
   "cell_type": "code",
   "execution_count": null,
   "metadata": {},
   "outputs": [],
   "source": []
  },
  {
   "cell_type": "code",
   "execution_count": null,
   "metadata": {},
   "outputs": [],
   "source": []
  },
  {
   "cell_type": "code",
   "execution_count": 17,
   "metadata": {},
   "outputs": [
    {
     "name": "stdout",
     "output_type": "stream",
     "text": [
      "Fonction qui genere le code de hamming a partir de la matrice generatrice\n"
     ]
    }
   ],
   "source": [
    "print('Fonction qui genere le code de hamming a partir de la matrice generatrice')"
   ]
  },
  {
   "cell_type": "code",
   "execution_count": 18,
   "metadata": {},
   "outputs": [],
   "source": [
    "def GenereCodeHamming(espace):\n",
    "    Code = []\n",
    "    n = len(espace)\n",
    "    for i in range(n):\n",
    "        liste = fonctionConvertChaineBinAListBin(espace[i])\n",
    "        Code.append(MotDeCodeDeHamming(liste))\n",
    "    return Code"
   ]
  },
  {
   "cell_type": "code",
   "execution_count": 20,
   "metadata": {},
   "outputs": [],
   "source": [
    "GenereCodeHamming(espace)"
   ]
  },
  {
   "cell_type": "code",
   "execution_count": 21,
   "metadata": {},
   "outputs": [],
   "source": [
    "def affichGenereCodeHamming(espace):\n",
    "    Code = []\n",
    "    Code0 = GenereCodeHamming(espace)\n",
    "    n = len(Code0)\n",
    "    for i in range(n):\n",
    "        Code.append(fonctionConvertListBinAChaineBin(Code0[i]))\n",
    "        #print(Code[i])\n",
    "    return Code"
   ]
  },
  {
   "cell_type": "code",
   "execution_count": null,
   "metadata": {},
   "outputs": [],
   "source": [
    "Code = affichGenereCodeHamming(espace)\n",
    "for i in range(len(Code)):\n",
    "    print(Code[i])"
   ]
  },
  {
   "cell_type": "code",
   "execution_count": null,
   "metadata": {},
   "outputs": [],
   "source": []
  },
  {
   "cell_type": "code",
   "execution_count": null,
   "metadata": {},
   "outputs": [],
   "source": []
  }
 ],
 "metadata": {
  "kernelspec": {
   "display_name": "SageMath 9.1",
   "language": "sage",
   "name": "sagemath"
  },
  "language_info": {
   "codemirror_mode": {
    "name": "ipython",
    "version": 3
   },
   "file_extension": ".py",
   "mimetype": "text/x-python",
   "name": "python",
   "nbconvert_exporter": "python",
   "pygments_lexer": "ipython3",
   "version": "3.7.3"
  }
 },
 "nbformat": 4,
 "nbformat_minor": 2
}
