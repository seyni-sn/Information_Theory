{
 "cells": [
  {
   "cell_type": "code",
   "execution_count": 3,
   "metadata": {},
   "outputs": [
    {
     "name": "stdout",
     "output_type": "stream",
     "text": [
      "===================THEORIE DE L'INFORMATION========================\n"
     ]
    }
   ],
   "source": [
    "print(\"===================THEORIE DE L'INFORMATION========================\")"
   ]
  },
  {
   "cell_type": "code",
   "execution_count": 40,
   "metadata": {},
   "outputs": [
    {
     "name": "stdout",
     "output_type": "stream",
     "text": [
      "++++++++++++++++++++++++DEVOIR A RENDRE+++++++++++++++++++++++++++\n"
     ]
    }
   ],
   "source": [
    "print('++++++++++++++++++++++++DEVOIR A RENDRE+++++++++++++++++++++++++++')"
   ]
  },
  {
   "cell_type": "code",
   "execution_count": 62,
   "metadata": {},
   "outputs": [
    {
     "name": "stdout",
     "output_type": "stream",
     "text": [
      "CLASSE:=  M1 CCA\n"
     ]
    }
   ],
   "source": [
    "print('CLASSE:=  M1 CCA')"
   ]
  },
  {
   "cell_type": "code",
   "execution_count": 64,
   "metadata": {
    "scrolled": true
   },
   "outputs": [
    {
     "name": "stdout",
     "output_type": "stream",
     "text": [
      "MEMEBRE:= Seyni KANE et Ramatoulaye DIALLO\n"
     ]
    }
   ],
   "source": [
    "print(\"MEMEBRE:= Seyni KANE et Ramatoulaye DIALLO\")"
   ]
  },
  {
   "cell_type": "code",
   "execution_count": 65,
   "metadata": {
    "scrolled": true
   },
   "outputs": [
    {
     "name": "stdout",
     "output_type": "stream",
     "text": [
      "++++++++++++++++++++++++DEVOIR A RENDRE+++++++++++++++++++++++++++\n"
     ]
    }
   ],
   "source": [
    "print('++++++++++++++++++++++++DEVOIR A RENDRE+++++++++++++++++++++++++++')"
   ]
  },
  {
   "cell_type": "code",
   "execution_count": 41,
   "metadata": {},
   "outputs": [
    {
     "name": "stdout",
     "output_type": "stream",
     "text": [
      "Definition de quelques fonctions que l'on onra besion dans les differents programmes\n"
     ]
    }
   ],
   "source": [
    "print(\"Definition de quelques fonctions que l'on onra besion dans les differents programmes\")"
   ]
  },
  {
   "cell_type": "code",
   "execution_count": 42,
   "metadata": {},
   "outputs": [
    {
     "name": "stdout",
     "output_type": "stream",
     "text": [
      "Definition des fonctions\n"
     ]
    }
   ],
   "source": [
    "print('Definition des fonctions')"
   ]
  },
  {
   "cell_type": "code",
   "execution_count": 43,
   "metadata": {},
   "outputs": [
    {
     "name": "stdout",
     "output_type": "stream",
     "text": [
      "Fonction occurence\n"
     ]
    }
   ],
   "source": [
    "print('Fonction occurence')"
   ]
  },
  {
   "cell_type": "code",
   "execution_count": 4,
   "metadata": {},
   "outputs": [],
   "source": [
    "def fonctionOccurance(text):\n",
    "    \"\"\"\n",
    "    Cette fonction prend en entrée un text, puis calcule la fréquence d'apparution de chaque \n",
    "    lettre de l'aphabet avant de returner une liste contenant la fréquence d'apparution de chaque \n",
    "    lettre. \n",
    "    \"\"\"\n",
    "    alphabet = ['a', 'b', 'c', 'd', 'e', 'f', 'g', 'h', 'i', 'j', 'k' , 'l', 'm' , 'n', 'o', 'p', 'q', 'r', 's', 't', 'u', 'v', 'w', 'x', 'y', 'z']\n",
    "    L = []\n",
    "    for i in range(26):\n",
    "        L.append(0)\n",
    "    for j in range(len(alphabet)):\n",
    "        for i in range(len(text)):\n",
    "            if( alphabet[j] == text[i]):\n",
    "                L[j] += 1\n",
    "    return L"
   ]
  },
  {
   "cell_type": "code",
   "execution_count": 46,
   "metadata": {},
   "outputs": [
    {
     "name": "stdout",
     "output_type": "stream",
     "text": [
      "Fonction probabilite\n"
     ]
    }
   ],
   "source": [
    "print('Fonction probabilite')"
   ]
  },
  {
   "cell_type": "code",
   "execution_count": 56,
   "metadata": {},
   "outputs": [],
   "source": [
    "def fonctionProba(text):\n",
    "    \"\"\"\n",
    "    Cette fonction prend en entree un text et retourne une liste contenant la probabilité de chaque lettre de\n",
    "    l'alphabet par rapport a ce text en utilisant la fonction occurence defini ci-dessus.\n",
    "    \"\"\"\n",
    "    n = len(text)\n",
    "    L = fonctionOccurance(text)\n",
    "    for i in range(len(L)-1):\n",
    "        L[i] = L[i]/n\n",
    "    return L"
   ]
  },
  {
   "cell_type": "code",
   "execution_count": 49,
   "metadata": {},
   "outputs": [
    {
     "name": "stdout",
     "output_type": "stream",
     "text": [
      "Fonction entropie\n"
     ]
    }
   ],
   "source": [
    "print('Fonction entropie')"
   ]
  },
  {
   "cell_type": "code",
   "execution_count": 6,
   "metadata": {},
   "outputs": [],
   "source": [
    "def fonctionEntropie(text):\n",
    "    \"\"\"\n",
    "    Cette fonction prend en entrée un text et retourn l'entropie du text en utilisant\n",
    "    la fonction probablité defini ci-dessus.\n",
    "    \"\"\"\n",
    "    L = fonctionProba(text)\n",
    "    H = 0\n",
    "    for i in range(len(L)-1):\n",
    "        if(L[i]!=0):\n",
    "            H += - L[i]*(ln(L[i])/ln(2))\n",
    "    return numerical_approx(H)"
   ]
  },
  {
   "cell_type": "code",
   "execution_count": 51,
   "metadata": {},
   "outputs": [
    {
     "name": "stdout",
     "output_type": "stream",
     "text": [
      "Fonction longueur moyenne d'un code\n"
     ]
    }
   ],
   "source": [
    "print(\"Fonction longueur moyenne d'un code\")"
   ]
  },
  {
   "cell_type": "code",
   "execution_count": 7,
   "metadata": {},
   "outputs": [],
   "source": [
    "def fonctionCalculLongueurMoyenneCode(code, probaLettres):\n",
    "    longMoy = 0\n",
    "    for i in range(len(code)):\n",
    "        longMoy += probaLettres[i]*len(code[i])\n",
    "    return longMoy"
   ]
  },
  {
   "cell_type": "code",
   "execution_count": 54,
   "metadata": {},
   "outputs": [
    {
     "name": "stdout",
     "output_type": "stream",
     "text": [
      "Fonction calcule efficacité d'un code\n"
     ]
    }
   ],
   "source": [
    "print(\"Fonction calcule efficacité d'un code\")"
   ]
  },
  {
   "cell_type": "code",
   "execution_count": 8,
   "metadata": {},
   "outputs": [],
   "source": [
    "def fonctionCalculeEfficaciteCode(entropie, longMoy):\n",
    "    \"\"\"\n",
    "    Cette fonction prend en entrée l'entropie et la longueur moyenne retourn l'efficacité du code\n",
    "    en utilisant les fonctions entropie et longueur moyenne defini ci-dessus\n",
    "    \"\"\"\n",
    "    efficace = entropie/longMoy\n",
    "    return numerical_approx(efficace)"
   ]
  },
  {
   "cell_type": "code",
   "execution_count": 58,
   "metadata": {},
   "outputs": [
    {
     "name": "stdout",
     "output_type": "stream",
     "text": [
      "Fonction lettre\n"
     ]
    }
   ],
   "source": [
    "print('Fonction retourne lettre')"
   ]
  },
  {
   "cell_type": "code",
   "execution_count": 9,
   "metadata": {},
   "outputs": [],
   "source": [
    "def fonctionRetournLettre(text):\n",
    "    \"\"\"\n",
    "    Cette fonction prend en entrée un texte et retourn les lettres de l'aphabet\n",
    "    presentes dans le texte en utilisant la fonction probablité definit ci-dessus.\n",
    "    En effet les indice correspondant a des probabilités non nulles sont les numeros dans l'aphabet des \n",
    "    lettres qui sont presentes dans le texte\n",
    "    \"\"\"\n",
    "    alphabet = ['a', 'b', 'c', 'd', 'e', 'f', 'g', 'h', 'i', 'j', 'k' , 'l', 'm' , 'n', 'o', 'p', 'q', 'r', 's', 't', 'u', 'v', 'w', 'x', 'y', 'z']\n",
    "    proba = fonctionProba(text)\n",
    "    lettres = []\n",
    "    for i in range(len(proba)):\n",
    "        if(proba[i] != 0):\n",
    "            lettres.append(alphabet[i])\n",
    "    return lettres"
   ]
  },
  {
   "cell_type": "code",
   "execution_count": 32,
   "metadata": {},
   "outputs": [
    {
     "name": "stdout",
     "output_type": "stream",
     "text": [
      "->1) Programme HUFFMAN\n"
     ]
    }
   ],
   "source": [
    "print('->1) Programme HUFFMAN')"
   ]
  },
  {
   "cell_type": "code",
   "execution_count": 35,
   "metadata": {},
   "outputs": [
    {
     "data": {
      "text/plain": [
       "\"\\n On va d'abore definire les differentes fonctions que nous allons utuilise au niveau de notre programme\\n avant de proceder a l'ecriture du programme.\\n\""
      ]
     },
     "execution_count": 35,
     "metadata": {},
     "output_type": "execute_result"
    }
   ],
   "source": [
    "\"\"\"\n",
    " On va d'abore definire les differentes fonctions que nous allons utuilise au niveau de notre programme\n",
    " avant de proceder a l'ecriture du programme.\n",
    "\"\"\""
   ]
  },
  {
   "cell_type": "code",
   "execution_count": 56,
   "metadata": {},
   "outputs": [
    {
     "name": "stdout",
     "output_type": "stream",
     "text": [
      "Definition des fonctions specifiques a notre programme HUFFMAN\n"
     ]
    }
   ],
   "source": [
    "print('Definition des fonctions specifiques a notre programme HUFFMAN')"
   ]
  },
  {
   "cell_type": "code",
   "execution_count": 10,
   "metadata": {},
   "outputs": [],
   "source": [
    "def fonctionCreerArbreHuffman(text):\n",
    "    \"\"\"\n",
    "    Cette fonction prend en entrree un text et retourne un arbre binaire à partir des lettres \n",
    "    et de leur probabilite.\n",
    "    On choisit de représenter un arbre de la façon suivante :\n",
    "      * Une feuille est un 2-uplet : la probabilite et la lettre\n",
    "      * Un noeud est un 3-uplet : la somme des occurences de toutes\n",
    "    Ensuite, on construit l'arbre en piochant les deux noeuds de poids\n",
    "    le plus faible, on en fait un nouveau noeud que l'on remet dans le tas.\n",
    "    On s'arrête dès qu'il reste un unique noeud (qui est l'arbre voulu)\n",
    "    \"\"\"\n",
    "    lettres = fonctionRetournLettre(text)\n",
    "    proba = fonctionProba(text)\n",
    "    proba = [p for p in proba if p != 0]\n",
    "    #noeuds = zip(lettres,proba)\n",
    "    noeuds = []\n",
    "    for i in range(len(lettres)):\n",
    "        noeuds.append((lettres[i],proba[i]))\n",
    "    \n",
    "    arbre = noeuds\n",
    "    while len(arbre) > 1:\n",
    "        arbre.sort(key=lambda item: item[1])\n",
    "        nouveauNoeud = (arbre[0][0] + arbre[1][0], arbre[0][1] + arbre[1][1], arbre[0], arbre[1])\n",
    "\n",
    "        arbre.pop(0)\n",
    "        arbre[0] = nouveauNoeud\n",
    "    return arbre[0]\n"
   ]
  },
  {
   "cell_type": "code",
   "execution_count": 142,
   "metadata": {},
   "outputs": [
    {
     "name": "stdout",
     "output_type": "stream",
     "text": [
      "Definition de la fonction encodage caractaire\n"
     ]
    }
   ],
   "source": [
    "print('Definition de la fonction encodage caractaire')"
   ]
  },
  {
   "cell_type": "code",
   "execution_count": 11,
   "metadata": {},
   "outputs": [],
   "source": [
    "def fonctionEncodageCaractaire(carac, arbre, code = []):\n",
    "    \"\"\"\n",
    "    Cette fonction est une fonction recursive qui prend en entreé un caractaire, l'arbre binaire et une liste\n",
    "    pour retourner le codage du caractaire selon l'arbre\n",
    "    \"\"\"\n",
    "    if len(arbre[0]) > 1:\n",
    "        if carac in arbre[2][0]:\n",
    "            code.append('0')\n",
    "            return fonctionEncodageCaractaire(carac, arbre[2], code)\n",
    "        else:\n",
    "            code.append('1')\n",
    "            return fonctionEncodageCaractaire(carac, arbre[3], code)\n",
    "    else:\n",
    "        return code\n",
    "\n"
   ]
  },
  {
   "cell_type": "code",
   "execution_count": 143,
   "metadata": {},
   "outputs": [
    {
     "name": "stdout",
     "output_type": "stream",
     "text": [
      "Definition de la fonction encodage lettres\n"
     ]
    }
   ],
   "source": [
    "print('Definition de la fonction encodage lettres')"
   ]
  },
  {
   "cell_type": "code",
   "execution_count": 12,
   "metadata": {},
   "outputs": [],
   "source": [
    "def fonctionEncodageLettres(lettres, arbre):\n",
    "    \"\"\"\n",
    "    Cette fonction prend en entrée une liste de lettre et un arbre binaire pour retourner encodage\n",
    "    de la liste de lettres en utilisant la fonction encodage caractaire definit ci-dessus.\n",
    "    \"\"\"\n",
    "    encodage = {}\n",
    "    for carac in lettres:\n",
    "        encodage[carac] = fonctionEncodageCaractaire(carac, arbre, [])\n",
    "    return encodage"
   ]
  },
  {
   "cell_type": "code",
   "execution_count": 144,
   "metadata": {},
   "outputs": [
    {
     "name": "stdout",
     "output_type": "stream",
     "text": [
      "Definition de la fonction encodage texte\n"
     ]
    }
   ],
   "source": [
    "print('Definition de la fonction encodage texte')"
   ]
  },
  {
   "cell_type": "code",
   "execution_count": 13,
   "metadata": {},
   "outputs": [],
   "source": [
    "def fonctionEncodeText(text, encodage):\n",
    "    \"\"\"\n",
    "    Cette fonction prend en entrée un texte et l'encodage des lettres qui s'y trouve \n",
    "    pour retourner l'encodage du texte.\n",
    "    \"\"\"\n",
    "    code = []\n",
    "    for carac in text:\n",
    "        code.extend(encodage[carac])\n",
    "    return ''.join(code)"
   ]
  },
  {
   "cell_type": "code",
   "execution_count": 145,
   "metadata": {},
   "outputs": [
    {
     "name": "stdout",
     "output_type": "stream",
     "text": [
      "Definition de la fonction decodage texte\n"
     ]
    }
   ],
   "source": [
    "print('Definition de la fonction decodage texte')"
   ]
  },
  {
   "cell_type": "code",
   "execution_count": 14,
   "metadata": {},
   "outputs": [],
   "source": [
    "def fonctionDecodageText(code, arbre):\n",
    "    \"\"\"\n",
    "    Cette fonction prend en entrée le code du texte et un arbre binaire pour retourner le texte correspondant\n",
    "    \"\"\"\n",
    "    arbreIterer = arbre\n",
    "    message = ''\n",
    "    for bit in code:\n",
    "        arbreIterer = arbreIterer[2 if bit == '0' else 3]\n",
    "        if len(arbreIterer[0]) == 1:\n",
    "            message = message + arbreIterer[0]\n",
    "            arbreIterer = arbre\n",
    "    return message"
   ]
  },
  {
   "cell_type": "code",
   "execution_count": 148,
   "metadata": {},
   "outputs": [
    {
     "name": "stdout",
     "output_type": "stream",
     "text": [
      "PROGRAMME HUFFMAN\n"
     ]
    }
   ],
   "source": [
    "print('PROGRAMME HUFFMAN')"
   ]
  },
  {
   "cell_type": "code",
   "execution_count": 58,
   "metadata": {},
   "outputs": [
    {
     "name": "stdout",
     "output_type": "stream",
     "text": [
      "Attention!\n",
      "\n",
      "Veillez bien vouloir suivre nos instruction pour l'utilisation de ce programme:\n",
      "1->Notre programme pour l'instant ne prend en charge que l'alphabet muniscule,donc pas d'espace ni autres\n",
      "2->Veillez essayer ces examples ou des exemples de ce genre pour plus de clarté niveau outpout\n",
      "                   text='abc', text='maman', text='codehuffman', etc.\n",
      "\n",
      "\n",
      "\n",
      "\n",
      "Donner le texte :   papae\n",
      "\n",
      "\n",
      "L'arbre du code de HUFFMAN\n",
      "('pea', 1, ('p', 2/5), ('ea', 3/5, ('e', 1/5), ('a', 2/5)))\n",
      "L'encodage des lettres \n"
     ]
    },
    {
     "data": {
      "text/html": [
       "<html><script type=\"math/tex; mode=display\">\\newcommand{\\Bold}[1]{\\mathbf{#1}}\\left\\{\\verb|p| : \\left[0\\right], \\verb|e| : \\left[1, 0\\right], \\verb|a| : \\left[1, 1\\right]\\right\\}</script></html>"
      ],
      "text/plain": [
       "{'p': ['0'], 'e': ['1', '0'], 'a': ['1', '1']}"
      ]
     },
     "metadata": {},
     "output_type": "display_data"
    },
    {
     "name": "stdout",
     "output_type": "stream",
     "text": [
      "La sequence de codage du texte:  01101110\n",
      "La sequence de decodage du texte:  papae\n",
      "\n",
      "\n",
      "L'entropie du texte  : 1.52192809488736\n",
      "Longueur moyenne du code  : 2/5\n",
      "Efficacite du code  : 3.80482023721841\n"
     ]
    }
   ],
   "source": [
    "\"\"\"\n",
    " Ici nous vous proposons un programme qui retourne le code de HUFFMAN d'un texte donnée.\n",
    " -Tout d'abord on affichera l'arbre binaire du code de HUFFMAN\n",
    " -Puis le codage de la source\n",
    " - Ensuite on affichera le code correspondant au text\n",
    " -Enfin on decodera le code, pour obtenir le texte format originel\n",
    "\"\"\"\n",
    "print('Attention!\\n')\n",
    "print(\"Veillez bien vouloir suivre nos instruction pour l'utilisation de ce programme:\")\n",
    "print(\"1->Notre programme pour l'instant ne prend en charge que l'alphabet muniscule,donc pas d'espace ni autres\")\n",
    "print('2->Veillez essayer ces examples ou des exemples de ce genre pour plus de clarté niveau outpout')\n",
    "print(\"                   text='abc', text='maman', text='codehuffman', etc.\")\n",
    "\n",
    "for i in range(2):\n",
    "    print('\\n')\n",
    "\n",
    "\n",
    "text = input('Donner le texte :   ')\n",
    "print('\\n')\n",
    "lettres = fonctionRetournLettre(text)\n",
    "arbre = fonctionCreerArbreHuffman(text)\n",
    "print(\"L'arbre du code de HUFFMAN\")\n",
    "print(arbre)\n",
    "\n",
    "encodage = fonctionEncodageLettres(arbre[0], arbre)\n",
    "print(\"L'encodage des lettres \")\n",
    "show(encodage)\n",
    "\n",
    "code = fonctionEncodeText(text, encodage)\n",
    "\n",
    "print(\"La sequence de codage du texte: \", code)\n",
    "print(\"La sequence de decodage du texte: \", fonctionDecodageText(code, arbre))\n",
    "print('\\n')\n",
    "probaLettres = fonctionProba(text)\n",
    "codeOrdoner = sorted(encodage, key=lambda x: x[0])\n",
    "entropie = fonctionEntropie(text)\n",
    "longMoy = fonctionCalculLongueurMoyenneCode(codeOrdoner, probaLettres)\n",
    "print(\"L'entropie du texte  :\",entropie)\n",
    "\n",
    "print(\"Longueur moyenne du code  :\", longMoy)\n",
    "\n",
    "print(\"Efficacite du code  :\", fonctionCalculeEfficaciteCode(entropie, longMoy))\n"
   ]
  },
  {
   "cell_type": "code",
   "execution_count": 19,
   "metadata": {},
   "outputs": [
    {
     "name": "stdout",
     "output_type": "stream",
     "text": [
      "************************************************************************\n"
     ]
    }
   ],
   "source": [
    "print('************************************************************************')"
   ]
  },
  {
   "cell_type": "code",
   "execution_count": 21,
   "metadata": {},
   "outputs": [
    {
     "name": "stdout",
     "output_type": "stream",
     "text": [
      "->2) Programme SHANNON-FANO\n"
     ]
    }
   ],
   "source": [
    "print('->2) Programme SHANNON-FANO')"
   ]
  },
  {
   "cell_type": "code",
   "execution_count": 22,
   "metadata": {},
   "outputs": [
    {
     "name": "stdout",
     "output_type": "stream",
     "text": [
      "Definition des fonctions specifiques a notre programme SHANNON-FANO\n"
     ]
    }
   ],
   "source": [
    "print('Definition des fonctions specifiques a notre programme SHANNON-FANO')"
   ]
  },
  {
   "cell_type": "code",
   "execution_count": 23,
   "metadata": {},
   "outputs": [
    {
     "name": "stdout",
     "output_type": "stream",
     "text": [
      "Defintion de la fonction qui devise tableau en deux\n"
     ]
    }
   ],
   "source": [
    "print('Defintion de la fonction qui devise tableau en deux')"
   ]
  },
  {
   "cell_type": "code",
   "execution_count": 31,
   "metadata": {},
   "outputs": [],
   "source": [
    "def fonctionDeviseTableauEn2(tableau):\n",
    "    \"\"\"\n",
    "    Cette fonction prend en entrée une tableau de 3 dimension d'ont chaque ligne contenant une lettre,\n",
    "    sa probalité, et son code(vide au debut) et retourn le meme tableau divisé en deux partie \n",
    "    de probabilitées sensiblement egale.\n",
    "    \"\"\"\n",
    "    total = sum(ligne[1] for ligne in tableau)\n",
    "\n",
    "    index = 0\n",
    "    sousTotal = 0\n",
    "    minDifference = total\n",
    "\n",
    "    for ligne in tableau:\n",
    "        sousTotal += ligne[1]\n",
    "        difference = abs(total - 2 * sousTotal)\n",
    "\n",
    "        if minDifference > difference:\n",
    "            minDifference = difference\n",
    "        else:\n",
    "            break\n",
    "\n",
    "        index += 1\n",
    "\n",
    "    return tableau[:index], tableau[index:]"
   ]
  },
  {
   "cell_type": "code",
   "execution_count": 29,
   "metadata": {},
   "outputs": [
    {
     "name": "stdout",
     "output_type": "stream",
     "text": [
      "definition de fonction codageShannon Fano\n"
     ]
    }
   ],
   "source": [
    "print('definition de fonction codageShannonFano')"
   ]
  },
  {
   "cell_type": "code",
   "execution_count": 34,
   "metadata": {},
   "outputs": [],
   "source": [
    "def fonctionCodageShannonFano(tableau):\n",
    "    \"\"\"\n",
    "    cette fonction est une fonction recursive prend en entrée une tableau de 3 dimension \n",
    "    d'ont chaque ligne contenant une lettre,sa probalité, et son code(vide au debut) \n",
    "    et code chaque lettre se trouvant sur chaque ligne du tableau. \n",
    "    \"\"\"\n",
    "    if len(tableau) == 1:\n",
    "        return\n",
    "\n",
    "    tab1, tab2 = fonctionDeviseTableauEn2(tableau)\n",
    "\n",
    "    for ligne in tab1:\n",
    "        ligne[2] += '0'\n",
    "\n",
    "    for ligne in tab2:\n",
    "        ligne[2] += '1'\n",
    "\n",
    "    fonctionCodageShannonFano(tab1)\n",
    "    fonctionCodageShannonFano(tab2)"
   ]
  },
  {
   "cell_type": "code",
   "execution_count": 36,
   "metadata": {},
   "outputs": [
    {
     "name": "stdout",
     "output_type": "stream",
     "text": [
      "PROGRAMME SHANNON FANO\n"
     ]
    }
   ],
   "source": [
    "print(\"PROGRAMME SHANNON FANO\")"
   ]
  },
  {
   "cell_type": "code",
   "execution_count": 61,
   "metadata": {},
   "outputs": [
    {
     "name": "stdout",
     "output_type": "stream",
     "text": [
      "Attention!\n",
      "\n",
      "Veillez bien vouloir suivre nos instruction pour l'utilisation de ce programme:\n",
      "1->Notre programme pour l'instant ne prend en charge que l'alphabet muniscule,donc pas d'espace ni autres\n",
      "\n",
      "\n",
      "\n",
      "\n",
      "Donner le texte :   ramatoulayediallom1cca\n",
      "\n",
      "\n",
      "Codage de la source\n",
      "a => 00\n",
      "l => 010\n",
      "c => 011\n",
      "m => 100\n",
      "o => 1010\n",
      "d => 1011\n",
      "e => 1100\n",
      "i => 11010\n",
      "r => 11011\n",
      "t => 1110\n",
      "u => 11110\n",
      "y => 11111\n",
      "\n",
      "\n",
      "Codage du text\n",
      "11011001000011101010111100100011111110010111101000010010101010001101100\n",
      "\n",
      "\n",
      "L'entropie du texte  : 3.24016072794468\n",
      "Longueur moyenne du code  : 13/11\n",
      "Efficacite du code  : 2.74167446210704\n"
     ]
    }
   ],
   "source": [
    "\"\"\"\n",
    " Ici nous vous proposons un programme qui retourne le code de SHANNON FANO d'un texte donnée.\n",
    " -Tout d'abord on affichera le codage de la source\n",
    " - Ensuite on affichera le code correspondant au text\n",
    "\"\"\"\n",
    "print('Attention!\\n')\n",
    "print(\"Veillez bien vouloir suivre nos instruction pour l'utilisation de ce programme:\")\n",
    "print(\"1->Notre programme pour l'instant ne prend en charge que l'alphabet muniscule,donc pas d'espace ni autres\")\n",
    "\n",
    "for i in range(2):\n",
    "    print('\\n')\n",
    "\n",
    "\n",
    "text = input('Donner le texte :   ')\n",
    "print('\\n')\n",
    "lettres = fonctionRetournLettre(text)\n",
    "proba = fonctionProba(text)\n",
    "proba = [p for p in proba if p != 0]\n",
    "\n",
    "tableau = []\n",
    "for i in range(len(lettres)):\n",
    "    tableau.append([lettres[i],proba[i],''])\n",
    "\n",
    "tableau = sorted(tableau, key=lambda x: x[1], reverse=True)\n",
    "fonctionCodageShannonFano(tableau)\n",
    "\n",
    "print('Codage de la source')\n",
    "for ligne in tableau:\n",
    "        print(ligne[0], \"=>\", ligne[2])\n",
    "\n",
    "print('\\n')\n",
    "\n",
    "print('Codage du text')\n",
    "textCode = ''\n",
    "for lettre in text:\n",
    "    for i in range(len(tableau)):\n",
    "        if(lettre == tableau[i][0]):\n",
    "            textCode += (tableau[i][2])\n",
    "print(textCode)\n",
    "\n",
    "print('\\n')\n",
    "\n",
    "probaLettres = fonctionProba(text)\n",
    "codeOrdoner = sorted(tableau, key=lambda x: x[0])\n",
    "codeOrdoner = [[element[0],element[2]] for element in codeOrdoner]\n",
    "entropie = fonctionEntropie(text)\n",
    "longMoy = fonctionCalculLongueurMoyenneCode(codeOrdoner, probaLettres)\n",
    "print(\"L'entropie du texte  :\",entropie)\n",
    "\n",
    "print(\"Longueur moyenne du code  :\", longMoy)\n",
    "\n",
    "print(\"Efficacite du code  :\", fonctionCalculeEfficaciteCode(entropie, longMoy))\n"
   ]
  },
  {
   "cell_type": "code",
   "execution_count": 67,
   "metadata": {},
   "outputs": [
    {
     "name": "stdout",
     "output_type": "stream",
     "text": [
      "************************************************************************\n"
     ]
    }
   ],
   "source": [
    "print('************************************************************************')"
   ]
  },
  {
   "cell_type": "code",
   "execution_count": 66,
   "metadata": {},
   "outputs": [
    {
     "name": "stdout",
     "output_type": "stream",
     "text": [
      "4->Calcule des capacités des canaux symetrique avec effacement et Z:\n"
     ]
    }
   ],
   "source": [
    "print(\"4->Calcule des capacités des canaux symetrique avec effacement et Z:\")"
   ]
  },
  {
   "cell_type": "code",
   "execution_count": 68,
   "metadata": {},
   "outputs": [
    {
     "name": "stdout",
     "output_type": "stream",
     "text": [
      "La capacité est le maximum des informatios mutuelles entre X et Y pour toutes les lois de transition:\n"
     ]
    }
   ],
   "source": [
    "print(\"La capacité est le maximum des informatios mutuelles entre X et Y pour toutes les lois de transition:\")"
   ]
  },
  {
   "cell_type": "code",
   "execution_count": 69,
   "metadata": {},
   "outputs": [
    {
     "name": "stdout",
     "output_type": "stream",
     "text": [
      "la capacité est maximal qu'en situation d'equiprobabilité: \n"
     ]
    }
   ],
   "source": [
    "print(\"la capacité est maximal qu'en situation d'equiprobabilité: \")"
   ]
  },
  {
   "cell_type": "code",
   "execution_count": 70,
   "metadata": {},
   "outputs": [
    {
     "name": "stdout",
     "output_type": "stream",
     "text": [
      "soit un canal defini par les données:\n",
      "1)l'alaphabet d'entrée X\n",
      "2)l'alphabet de sorti Y\n",
      "3)une loi de transition donnée sous forme d'une matrice M.\n"
     ]
    }
   ],
   "source": [
    "print(\"soit un canal defini par les données:\\n1)l'alaphabet d'entrée X\\n2)l'alphabet de sorti Y\\n3)une loi de transition donnée sous forme d'une matrice M.\")"
   ]
  },
  {
   "cell_type": "code",
   "execution_count": 71,
   "metadata": {},
   "outputs": [
    {
     "name": "stdout",
     "output_type": "stream",
     "text": [
      "Definition des fonction:\n"
     ]
    }
   ],
   "source": [
    "print('Definition des fonction:')"
   ]
  },
  {
   "cell_type": "code",
   "execution_count": 72,
   "metadata": {},
   "outputs": [
    {
     "name": "stdout",
     "output_type": "stream",
     "text": [
      "fonctions qui calculela probablité conditionnelle de y sachant x:\n"
     ]
    }
   ],
   "source": [
    "print(\"fonctions qui calculela probablité conditionnelle de y sachant x:\")"
   ]
  },
  {
   "cell_type": "code",
   "execution_count": 73,
   "metadata": {},
   "outputs": [],
   "source": [
    "def fonctionscalculproba2ysachantx(M):\n",
    "    tab_proba_conditionnel_Y = ''\n",
    "    for i in range(M.nrows()):\n",
    "        for j in range(M.ncols()):\n",
    "             tab_proba_conditionnel_Y[i][j] = M[i][j]\n",
    "    return  tab_proba_conditionnel_Y"
   ]
  },
  {
   "cell_type": "code",
   "execution_count": 74,
   "metadata": {},
   "outputs": [
    {
     "name": "stdout",
     "output_type": "stream",
     "text": [
      "Fonction qui calcule la probabilité des y(i):\n"
     ]
    }
   ],
   "source": [
    "print(\"Fonction qui calcule la probabilité des y(i):\")"
   ]
  },
  {
   "cell_type": "code",
   "execution_count": 75,
   "metadata": {},
   "outputs": [],
   "source": [
    "def fonctioncalculeprobaY(M,P):\n",
    "    probaY = ''\n",
    "    for i in range(M.nrows):\n",
    "        for j in range(M.ncols):\n",
    "             probaY[i] += M[i][j]*P[j] \n",
    "    return probaY"
   ]
  },
  {
   "cell_type": "code",
   "execution_count": 76,
   "metadata": {},
   "outputs": [
    {
     "name": "stdout",
     "output_type": "stream",
     "text": [
      "Fonction quicalcul l'informations mutuellede X et Y:\n"
     ]
    }
   ],
   "source": [
    "print(\"Fonction quicalcul l'informations mutuellede X et Y:\")"
   ]
  },
  {
   "cell_type": "code",
   "execution_count": 77,
   "metadata": {},
   "outputs": [],
   "source": [
    "def fonctionCalculInfomationMutuelle2XY(M,P):\n",
    "    I = ''\n",
    "    probaY =  fonctioncalculeprobaY(M,P)\n",
    "    for i in rang(1,M.ncols):\n",
    "        for j in range(1,M.nrows):\n",
    "            a = M[j][i]/probaY[i]\n",
    "            I[i][j] = log(a)/log(2)\n",
    "    return I  "
   ]
  },
  {
   "cell_type": "code",
   "execution_count": 78,
   "metadata": {},
   "outputs": [
    {
     "name": "stdout",
     "output_type": "stream",
     "text": [
      "Fonction qui calclule la probabilité conjointe de X et Y:\n"
     ]
    }
   ],
   "source": [
    "print(\"Fonction qui calclule la probabilité conjointe de X et Y:\")"
   ]
  },
  {
   "cell_type": "code",
   "execution_count": 79,
   "metadata": {},
   "outputs": [],
   "source": [
    "def fonctionProbaConjointeXY(M,P):\n",
    "    proba_conj = ''\n",
    "    for i in rang(M.nrow):\n",
    "        for j in range(M.ncols):\n",
    "            proba_conj[i][j] = (M[i][j])*P[i]\n",
    "    return proba_conj        "
   ]
  },
  {
   "cell_type": "code",
   "execution_count": 80,
   "metadata": {},
   "outputs": [],
   "source": [
    "def vectorn(n):\n",
    "    u = vector([0,0,0,0,0])\n",
    "    return u"
   ]
  },
  {
   "cell_type": "code",
   "execution_count": 81,
   "metadata": {},
   "outputs": [],
   "source": [
    "N = matrix(2,3,[1,2,3,4,5,GF(3)(1)]);"
   ]
  },
  {
   "cell_type": "code",
   "execution_count": 83,
   "metadata": {},
   "outputs": [
    {
     "data": {
      "text/html": [
       "<html><script type=\"math/tex; mode=display\">\\newcommand{\\Bold}[1]{\\mathbf{#1}}11</script></html>"
      ],
      "text/plain": [
       "'11'"
      ]
     },
     "metadata": {},
     "output_type": "display_data"
    }
   ],
   "source": [
    " u = bin(3)[2:];show(u)"
   ]
  },
  {
   "cell_type": "code",
   "execution_count": 84,
   "metadata": {},
   "outputs": [],
   "source": [
    "def Matrice2ControleduCode2Ham(r):\n",
    "    n = 2^r-1\n",
    "    H= matrix(GF(2),r,n)\n",
    "    for i in range(n):\n",
    "        u = bin(i)[2:]\n",
    "        for j  in range(2,len(u)):\n",
    "            H[j][i]. u[j]\n",
    "    return H "
   ]
  },
  {
   "cell_type": "code",
   "execution_count": 86,
   "metadata": {},
   "outputs": [],
   "source": [
    "#c = Matrice2ControleduCode2Ham(3)"
   ]
  },
  {
   "cell_type": "code",
   "execution_count": null,
   "metadata": {},
   "outputs": [],
   "source": []
  }
 ],
 "metadata": {
  "kernelspec": {
   "display_name": "SageMath 9.1",
   "language": "sage",
   "name": "sagemath"
  },
  "language_info": {
   "codemirror_mode": {
    "name": "ipython",
    "version": 3
   },
   "file_extension": ".py",
   "mimetype": "text/x-python",
   "name": "python",
   "nbconvert_exporter": "python",
   "pygments_lexer": "ipython3",
   "version": "3.7.3"
  }
 },
 "nbformat": 4,
 "nbformat_minor": 2
}
