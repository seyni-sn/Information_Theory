{
 "cells": [
  {
   "cell_type": "code",
   "execution_count": 81,
   "metadata": {},
   "outputs": [
    {
     "name": "stdout",
     "output_type": "stream",
     "text": [
      "1->Algorithme qui calcule l'entropie\n"
     ]
    }
   ],
   "source": [
    "print(\"1->Algorithme qui calcule l'entropie\")"
   ]
  },
  {
   "cell_type": "code",
   "execution_count": 1,
   "metadata": {},
   "outputs": [
    {
     "name": "stdout",
     "output_type": "stream",
     "text": [
      "Definition de la fonction occurence\n"
     ]
    }
   ],
   "source": [
    "print('Definition de la fonction occurence')"
   ]
  },
  {
   "cell_type": "code",
   "execution_count": 73,
   "metadata": {},
   "outputs": [],
   "source": [
    "def fonctionOccurance(text):\n",
    "    alphabet = ['a', 'b', 'c', 'd', 'e', 'f', 'g', 'h', 'i', 'j', 'k' , 'l', 'm' , 'n', 'o', 'p', 'q', 'r', 's', 't', 'u', 'v', 'w', 'x', 'y', 'z']\n",
    "    L = []\n",
    "    for i in range(26):\n",
    "        L.append(0)\n",
    "    for j in range(len(alphabet)):\n",
    "        for i in range(len(text)):\n",
    "            if( alphabet[j] == text[i]):\n",
    "                L[j] += 1\n",
    "    return L\n",
    "    "
   ]
  },
  {
   "cell_type": "code",
   "execution_count": 4,
   "metadata": {},
   "outputs": [
    {
     "name": "stdout",
     "output_type": "stream",
     "text": [
      "Definition fonction probabilite\n"
     ]
    }
   ],
   "source": [
    "print('Definition fonction probabilite')"
   ]
  },
  {
   "cell_type": "code",
   "execution_count": 74,
   "metadata": {},
   "outputs": [],
   "source": [
    "def fonctionProba(text):\n",
    "    n = len(text)\n",
    "    L = fonctionOccurance(text)\n",
    "    for i in range(len(L)-1):\n",
    "        L[i] = L[i]/n\n",
    "    return L"
   ]
  },
  {
   "cell_type": "code",
   "execution_count": 6,
   "metadata": {},
   "outputs": [
    {
     "name": "stdout",
     "output_type": "stream",
     "text": [
      "Definition fonction entropie\n"
     ]
    }
   ],
   "source": [
    "print('Definition fonction entropie')"
   ]
  },
  {
   "cell_type": "code",
   "execution_count": 2,
   "metadata": {},
   "outputs": [],
   "source": [
    "def fonctionEntropie(text):\n",
    "    L = fonctionProba(text)\n",
    "    H = 0\n",
    "    for i in range(len(L)-1):\n",
    "        if(L[i]!=0):\n",
    "            H += - L[i]*(ln(L[i])/ln(2))\n",
    "    return numerical_approx(H)"
   ]
  },
  {
   "cell_type": "code",
   "execution_count": 86,
   "metadata": {},
   "outputs": [
    {
     "name": "stdout",
     "output_type": "stream",
     "text": [
      "Test\n"
     ]
    }
   ],
   "source": [
    "print('Test')"
   ]
  },
  {
   "cell_type": "code",
   "execution_count": 100,
   "metadata": {},
   "outputs": [
    {
     "data": {
      "text/plain": [
       "3.28063906222957"
      ]
     },
     "execution_count": 100,
     "metadata": {},
     "output_type": "execute_result"
    }
   ],
   "source": [
    "text = 'bienvenueaucours'\n",
    "\n",
    "entr = fonctionEntropie(text); entr"
   ]
  },
  {
   "cell_type": "code",
   "execution_count": 110,
   "metadata": {},
   "outputs": [
    {
     "name": "stdout",
     "output_type": "stream",
     "text": [
      "2->En deduire la lange du text\n"
     ]
    }
   ],
   "source": [
    "print(\"2->En deduire la lange du text\")"
   ]
  },
  {
   "cell_type": "code",
   "execution_count": 108,
   "metadata": {},
   "outputs": [],
   "source": [
    "def langueDuText(H, L):\n",
    "    min = abs(L[0][1] - H)\n",
    "    i = 1\n",
    "    j = 0\n",
    "    while(i < len(L)):\n",
    "        diff = abs(L[i][1] - H)\n",
    "        if(diff < min):\n",
    "            min = diff;\n",
    "            j = i\n",
    "        i += 1\n",
    "    return L[j][0], j\n",
    "    "
   ]
  },
  {
   "cell_type": "code",
   "execution_count": 84,
   "metadata": {},
   "outputs": [
    {
     "name": "stdout",
     "output_type": "stream",
     "text": [
      "Test\n"
     ]
    }
   ],
   "source": [
    "print('Test')"
   ]
  },
  {
   "cell_type": "code",
   "execution_count": 109,
   "metadata": {},
   "outputs": [
    {
     "data": {
      "text/plain": [
       "(0, 'FR')"
      ]
     },
     "execution_count": 109,
     "metadata": {},
     "output_type": "execute_result"
    }
   ],
   "source": [
    "L = [('FR', 3.9), ('ENG', 1.8), ('ESP', 2.5)]\n",
    "j,lang = langueDuText(entr, L); lang,j"
   ]
  }
 ],
 "metadata": {
  "kernelspec": {
   "display_name": "SageMath 9.1",
   "language": "sage",
   "name": "sagemath"
  },
  "language_info": {
   "codemirror_mode": {
    "name": "ipython",
    "version": 3
   },
   "file_extension": ".py",
   "mimetype": "text/x-python",
   "name": "python",
   "nbconvert_exporter": "python",
   "pygments_lexer": "ipython3",
   "version": "3.7.3"
  }
 },
 "nbformat": 4,
 "nbformat_minor": 2
}
